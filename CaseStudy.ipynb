{
 "cells": [
  {
   "cell_type": "markdown",
   "id": "1f8f6435",
   "metadata": {},
   "source": [
    "# Salary Prediction dataset\n",
    "\n",
    "## About Dataset\n",
    "This dataset contains information about the salaries of employees at a company. Each row represents a different employee, and the columns include information such as age, gender, education level, job title, years of experience, and salary.\n",
    "\n",
    "Columns:\n",
    "\n",
    "- **Age**: This column represents the age of each employee in years. The values in this column are numeric.\n",
    "\n",
    "- **Gender**: This column contains the gender of each employee, which can be either male or female. The values in this column are categorical.\n",
    "\n",
    "- **Education Level**: This column contains the educational level of each employee, which can be high school, bachelor's degree, master's degree, or PhD. The values in this column are categorical.\n",
    "\n",
    "- **Job Title**: This column contains the job title of each employee. The job titles can vary depending on the company and may include positions such as manager, analyst, engineer, or administrator. The values in this column are categorical.\n",
    "\n",
    "- **Years of Experience**: This column represents the number of years of work experience of each employee. The values in this column are numeric.\n",
    "\n",
    "- **Salary**: This column represents the annual salary of each employee in US dollars. The values in this column are numeric and can vary depending on factors such as job title, years of experience, and education level."
   ]
  },
  {
   "cell_type": "markdown",
   "id": "11959296",
   "metadata": {},
   "source": [
    "##  Main Libraries Import "
   ]
  },
  {
   "cell_type": "code",
   "execution_count": 1,
   "id": "5d8951d2",
   "metadata": {},
   "outputs": [],
   "source": [
    "import pandas as pd \n",
    "pd.set_option('display.max_columns', None)\n",
    "import numpy as np\n",
    "import seaborn as sns \n",
    "import matplotlib.pyplot as plt "
   ]
  },
  {
   "cell_type": "markdown",
   "id": "2b0cc449",
   "metadata": {},
   "source": [
    "## Checking Data"
   ]
  },
  {
   "cell_type": "code",
   "execution_count": 2,
   "id": "e90286e9",
   "metadata": {},
   "outputs": [
    {
     "data": {
      "text/html": [
       "<div>\n",
       "<style scoped>\n",
       "    .dataframe tbody tr th:only-of-type {\n",
       "        vertical-align: middle;\n",
       "    }\n",
       "\n",
       "    .dataframe tbody tr th {\n",
       "        vertical-align: top;\n",
       "    }\n",
       "\n",
       "    .dataframe thead th {\n",
       "        text-align: right;\n",
       "    }\n",
       "</style>\n",
       "<table border=\"1\" class=\"dataframe\">\n",
       "  <thead>\n",
       "    <tr style=\"text-align: right;\">\n",
       "      <th></th>\n",
       "      <th>Age</th>\n",
       "      <th>Gender</th>\n",
       "      <th>Education Level</th>\n",
       "      <th>Job Title</th>\n",
       "      <th>Years of Experience</th>\n",
       "      <th>Salary</th>\n",
       "    </tr>\n",
       "  </thead>\n",
       "  <tbody>\n",
       "    <tr>\n",
       "      <th>0</th>\n",
       "      <td>32.0</td>\n",
       "      <td>Male</td>\n",
       "      <td>Bachelor's</td>\n",
       "      <td>Software Engineer</td>\n",
       "      <td>5.0</td>\n",
       "      <td>90000.0</td>\n",
       "    </tr>\n",
       "    <tr>\n",
       "      <th>1</th>\n",
       "      <td>28.0</td>\n",
       "      <td>Female</td>\n",
       "      <td>Master's</td>\n",
       "      <td>Data Analyst</td>\n",
       "      <td>3.0</td>\n",
       "      <td>65000.0</td>\n",
       "    </tr>\n",
       "    <tr>\n",
       "      <th>2</th>\n",
       "      <td>45.0</td>\n",
       "      <td>Male</td>\n",
       "      <td>PhD</td>\n",
       "      <td>Senior Manager</td>\n",
       "      <td>15.0</td>\n",
       "      <td>150000.0</td>\n",
       "    </tr>\n",
       "    <tr>\n",
       "      <th>3</th>\n",
       "      <td>36.0</td>\n",
       "      <td>Female</td>\n",
       "      <td>Bachelor's</td>\n",
       "      <td>Sales Associate</td>\n",
       "      <td>7.0</td>\n",
       "      <td>60000.0</td>\n",
       "    </tr>\n",
       "    <tr>\n",
       "      <th>4</th>\n",
       "      <td>52.0</td>\n",
       "      <td>Male</td>\n",
       "      <td>Master's</td>\n",
       "      <td>Director</td>\n",
       "      <td>20.0</td>\n",
       "      <td>200000.0</td>\n",
       "    </tr>\n",
       "    <tr>\n",
       "      <th>...</th>\n",
       "      <td>...</td>\n",
       "      <td>...</td>\n",
       "      <td>...</td>\n",
       "      <td>...</td>\n",
       "      <td>...</td>\n",
       "      <td>...</td>\n",
       "    </tr>\n",
       "    <tr>\n",
       "      <th>370</th>\n",
       "      <td>35.0</td>\n",
       "      <td>Female</td>\n",
       "      <td>Bachelor's</td>\n",
       "      <td>Senior Marketing Analyst</td>\n",
       "      <td>8.0</td>\n",
       "      <td>85000.0</td>\n",
       "    </tr>\n",
       "    <tr>\n",
       "      <th>371</th>\n",
       "      <td>43.0</td>\n",
       "      <td>Male</td>\n",
       "      <td>Master's</td>\n",
       "      <td>Director of Operations</td>\n",
       "      <td>19.0</td>\n",
       "      <td>170000.0</td>\n",
       "    </tr>\n",
       "    <tr>\n",
       "      <th>372</th>\n",
       "      <td>29.0</td>\n",
       "      <td>Female</td>\n",
       "      <td>Bachelor's</td>\n",
       "      <td>Junior Project Manager</td>\n",
       "      <td>2.0</td>\n",
       "      <td>40000.0</td>\n",
       "    </tr>\n",
       "    <tr>\n",
       "      <th>373</th>\n",
       "      <td>34.0</td>\n",
       "      <td>Male</td>\n",
       "      <td>Bachelor's</td>\n",
       "      <td>Senior Operations Coordinator</td>\n",
       "      <td>7.0</td>\n",
       "      <td>90000.0</td>\n",
       "    </tr>\n",
       "    <tr>\n",
       "      <th>374</th>\n",
       "      <td>44.0</td>\n",
       "      <td>Female</td>\n",
       "      <td>PhD</td>\n",
       "      <td>Senior Business Analyst</td>\n",
       "      <td>15.0</td>\n",
       "      <td>150000.0</td>\n",
       "    </tr>\n",
       "  </tbody>\n",
       "</table>\n",
       "<p>375 rows × 6 columns</p>\n",
       "</div>"
      ],
      "text/plain": [
       "      Age  Gender Education Level                      Job Title  \\\n",
       "0    32.0    Male      Bachelor's              Software Engineer   \n",
       "1    28.0  Female        Master's                   Data Analyst   \n",
       "2    45.0    Male             PhD                 Senior Manager   \n",
       "3    36.0  Female      Bachelor's                Sales Associate   \n",
       "4    52.0    Male        Master's                       Director   \n",
       "..    ...     ...             ...                            ...   \n",
       "370  35.0  Female      Bachelor's       Senior Marketing Analyst   \n",
       "371  43.0    Male        Master's         Director of Operations   \n",
       "372  29.0  Female      Bachelor's         Junior Project Manager   \n",
       "373  34.0    Male      Bachelor's  Senior Operations Coordinator   \n",
       "374  44.0  Female             PhD        Senior Business Analyst   \n",
       "\n",
       "     Years of Experience    Salary  \n",
       "0                    5.0   90000.0  \n",
       "1                    3.0   65000.0  \n",
       "2                   15.0  150000.0  \n",
       "3                    7.0   60000.0  \n",
       "4                   20.0  200000.0  \n",
       "..                   ...       ...  \n",
       "370                  8.0   85000.0  \n",
       "371                 19.0  170000.0  \n",
       "372                  2.0   40000.0  \n",
       "373                  7.0   90000.0  \n",
       "374                 15.0  150000.0  \n",
       "\n",
       "[375 rows x 6 columns]"
      ]
     },
     "execution_count": 2,
     "metadata": {},
     "output_type": "execute_result"
    }
   ],
   "source": [
    "df = pd.read_csv('data/Salary Data.csv')\n",
    "df"
   ]
  },
  {
   "cell_type": "code",
   "execution_count": 3,
   "id": "a97a75ef",
   "metadata": {},
   "outputs": [
    {
     "data": {
      "text/plain": [
       "Age                    2\n",
       "Gender                 2\n",
       "Education Level        2\n",
       "Job Title              2\n",
       "Years of Experience    2\n",
       "Salary                 2\n",
       "dtype: int64"
      ]
     },
     "execution_count": 3,
     "metadata": {},
     "output_type": "execute_result"
    }
   ],
   "source": [
    "# Missing Values\n",
    "df.isnull().sum()"
   ]
  },
  {
   "cell_type": "code",
   "execution_count": 4,
   "id": "95edff6e",
   "metadata": {
    "scrolled": true
   },
   "outputs": [
    {
     "data": {
      "text/plain": [
       "172   NaN\n",
       "260   NaN\n",
       "Name: Age, dtype: float64"
      ]
     },
     "execution_count": 4,
     "metadata": {},
     "output_type": "execute_result"
    }
   ],
   "source": [
    "df['Age'][df['Age'].isnull()]"
   ]
  },
  {
   "cell_type": "code",
   "execution_count": 5,
   "id": "77d92efb",
   "metadata": {},
   "outputs": [
    {
     "data": {
      "text/plain": [
       "(Age                    NaN\n",
       " Gender                 NaN\n",
       " Education Level        NaN\n",
       " Job Title              NaN\n",
       " Years of Experience    NaN\n",
       " Salary                 NaN\n",
       " Name: 172, dtype: object,\n",
       " Age                    NaN\n",
       " Gender                 NaN\n",
       " Education Level        NaN\n",
       " Job Title              NaN\n",
       " Years of Experience    NaN\n",
       " Salary                 NaN\n",
       " Name: 260, dtype: object)"
      ]
     },
     "execution_count": 5,
     "metadata": {},
     "output_type": "execute_result"
    }
   ],
   "source": [
    "df.loc[172], df.loc[260]"
   ]
  },
  {
   "cell_type": "code",
   "execution_count": 6,
   "id": "c1af850a",
   "metadata": {},
   "outputs": [
    {
     "data": {
      "text/plain": [
       "375"
      ]
     },
     "execution_count": 6,
     "metadata": {},
     "output_type": "execute_result"
    }
   ],
   "source": [
    "len(df)"
   ]
  },
  {
   "cell_type": "code",
   "execution_count": 7,
   "id": "8450e1c5",
   "metadata": {},
   "outputs": [
    {
     "data": {
      "text/plain": [
       "Age                    2\n",
       "Gender                 2\n",
       "Education Level        2\n",
       "Job Title              2\n",
       "Years of Experience    2\n",
       "Salary                 2\n",
       "dtype: int64"
      ]
     },
     "execution_count": 7,
     "metadata": {},
     "output_type": "execute_result"
    }
   ],
   "source": [
    "df.isnull().sum()"
   ]
  },
  {
   "cell_type": "code",
   "execution_count": 8,
   "id": "08466a5f",
   "metadata": {},
   "outputs": [
    {
     "data": {
      "text/plain": [
       "Age                    0.533333\n",
       "Gender                 0.533333\n",
       "Education Level        0.533333\n",
       "Job Title              0.533333\n",
       "Years of Experience    0.533333\n",
       "Salary                 0.533333\n",
       "dtype: float64"
      ]
     },
     "execution_count": 8,
     "metadata": {},
     "output_type": "execute_result"
    }
   ],
   "source": [
    "(df.isnull().sum() / len(df['Age'])) * 100"
   ]
  },
  {
   "cell_type": "markdown",
   "id": "08283033",
   "metadata": {},
   "source": [
    ">## Note\n",
    ">As missing data represents only 0.5% of the entire data I will choose for dropping it, because these attributes will not make difference in the analysis. Also It would be a good alternative filling it with mean, mode, median, or others techniques, because the more features the better. But, I will continue just removing the registers."
   ]
  },
  {
   "cell_type": "code",
   "execution_count": 9,
   "id": "e8e27ce0",
   "metadata": {},
   "outputs": [
    {
     "data": {
      "text/html": [
       "<div>\n",
       "<style scoped>\n",
       "    .dataframe tbody tr th:only-of-type {\n",
       "        vertical-align: middle;\n",
       "    }\n",
       "\n",
       "    .dataframe tbody tr th {\n",
       "        vertical-align: top;\n",
       "    }\n",
       "\n",
       "    .dataframe thead th {\n",
       "        text-align: right;\n",
       "    }\n",
       "</style>\n",
       "<table border=\"1\" class=\"dataframe\">\n",
       "  <thead>\n",
       "    <tr style=\"text-align: right;\">\n",
       "      <th></th>\n",
       "      <th>Age</th>\n",
       "      <th>Gender</th>\n",
       "      <th>Education Level</th>\n",
       "      <th>Job Title</th>\n",
       "      <th>Years of Experience</th>\n",
       "      <th>Salary</th>\n",
       "    </tr>\n",
       "  </thead>\n",
       "  <tbody>\n",
       "    <tr>\n",
       "      <th>0</th>\n",
       "      <td>32.0</td>\n",
       "      <td>Male</td>\n",
       "      <td>Bachelor's</td>\n",
       "      <td>Software Engineer</td>\n",
       "      <td>5.0</td>\n",
       "      <td>90000.0</td>\n",
       "    </tr>\n",
       "    <tr>\n",
       "      <th>1</th>\n",
       "      <td>28.0</td>\n",
       "      <td>Female</td>\n",
       "      <td>Master's</td>\n",
       "      <td>Data Analyst</td>\n",
       "      <td>3.0</td>\n",
       "      <td>65000.0</td>\n",
       "    </tr>\n",
       "    <tr>\n",
       "      <th>2</th>\n",
       "      <td>45.0</td>\n",
       "      <td>Male</td>\n",
       "      <td>PhD</td>\n",
       "      <td>Senior Manager</td>\n",
       "      <td>15.0</td>\n",
       "      <td>150000.0</td>\n",
       "    </tr>\n",
       "    <tr>\n",
       "      <th>3</th>\n",
       "      <td>36.0</td>\n",
       "      <td>Female</td>\n",
       "      <td>Bachelor's</td>\n",
       "      <td>Sales Associate</td>\n",
       "      <td>7.0</td>\n",
       "      <td>60000.0</td>\n",
       "    </tr>\n",
       "    <tr>\n",
       "      <th>4</th>\n",
       "      <td>52.0</td>\n",
       "      <td>Male</td>\n",
       "      <td>Master's</td>\n",
       "      <td>Director</td>\n",
       "      <td>20.0</td>\n",
       "      <td>200000.0</td>\n",
       "    </tr>\n",
       "    <tr>\n",
       "      <th>...</th>\n",
       "      <td>...</td>\n",
       "      <td>...</td>\n",
       "      <td>...</td>\n",
       "      <td>...</td>\n",
       "      <td>...</td>\n",
       "      <td>...</td>\n",
       "    </tr>\n",
       "    <tr>\n",
       "      <th>370</th>\n",
       "      <td>35.0</td>\n",
       "      <td>Female</td>\n",
       "      <td>Bachelor's</td>\n",
       "      <td>Senior Marketing Analyst</td>\n",
       "      <td>8.0</td>\n",
       "      <td>85000.0</td>\n",
       "    </tr>\n",
       "    <tr>\n",
       "      <th>371</th>\n",
       "      <td>43.0</td>\n",
       "      <td>Male</td>\n",
       "      <td>Master's</td>\n",
       "      <td>Director of Operations</td>\n",
       "      <td>19.0</td>\n",
       "      <td>170000.0</td>\n",
       "    </tr>\n",
       "    <tr>\n",
       "      <th>372</th>\n",
       "      <td>29.0</td>\n",
       "      <td>Female</td>\n",
       "      <td>Bachelor's</td>\n",
       "      <td>Junior Project Manager</td>\n",
       "      <td>2.0</td>\n",
       "      <td>40000.0</td>\n",
       "    </tr>\n",
       "    <tr>\n",
       "      <th>373</th>\n",
       "      <td>34.0</td>\n",
       "      <td>Male</td>\n",
       "      <td>Bachelor's</td>\n",
       "      <td>Senior Operations Coordinator</td>\n",
       "      <td>7.0</td>\n",
       "      <td>90000.0</td>\n",
       "    </tr>\n",
       "    <tr>\n",
       "      <th>374</th>\n",
       "      <td>44.0</td>\n",
       "      <td>Female</td>\n",
       "      <td>PhD</td>\n",
       "      <td>Senior Business Analyst</td>\n",
       "      <td>15.0</td>\n",
       "      <td>150000.0</td>\n",
       "    </tr>\n",
       "  </tbody>\n",
       "</table>\n",
       "<p>373 rows × 6 columns</p>\n",
       "</div>"
      ],
      "text/plain": [
       "      Age  Gender Education Level                      Job Title  \\\n",
       "0    32.0    Male      Bachelor's              Software Engineer   \n",
       "1    28.0  Female        Master's                   Data Analyst   \n",
       "2    45.0    Male             PhD                 Senior Manager   \n",
       "3    36.0  Female      Bachelor's                Sales Associate   \n",
       "4    52.0    Male        Master's                       Director   \n",
       "..    ...     ...             ...                            ...   \n",
       "370  35.0  Female      Bachelor's       Senior Marketing Analyst   \n",
       "371  43.0    Male        Master's         Director of Operations   \n",
       "372  29.0  Female      Bachelor's         Junior Project Manager   \n",
       "373  34.0    Male      Bachelor's  Senior Operations Coordinator   \n",
       "374  44.0  Female             PhD        Senior Business Analyst   \n",
       "\n",
       "     Years of Experience    Salary  \n",
       "0                    5.0   90000.0  \n",
       "1                    3.0   65000.0  \n",
       "2                   15.0  150000.0  \n",
       "3                    7.0   60000.0  \n",
       "4                   20.0  200000.0  \n",
       "..                   ...       ...  \n",
       "370                  8.0   85000.0  \n",
       "371                 19.0  170000.0  \n",
       "372                  2.0   40000.0  \n",
       "373                  7.0   90000.0  \n",
       "374                 15.0  150000.0  \n",
       "\n",
       "[373 rows x 6 columns]"
      ]
     },
     "execution_count": 9,
     "metadata": {},
     "output_type": "execute_result"
    }
   ],
   "source": [
    "## Dropping Missing Values\n",
    "df.dropna(inplace = True)\n",
    "df"
   ]
  },
  {
   "cell_type": "markdown",
   "id": "234383e7",
   "metadata": {},
   "source": [
    "## Age "
   ]
  },
  {
   "cell_type": "code",
   "execution_count": 10,
   "id": "5bec1c48",
   "metadata": {},
   "outputs": [
    {
     "data": {
      "text/plain": [
       "count    373.000000\n",
       "mean      37.431635\n",
       "std        7.069073\n",
       "min       23.000000\n",
       "25%       31.000000\n",
       "50%       36.000000\n",
       "75%       44.000000\n",
       "max       53.000000\n",
       "Name: Age, dtype: float64"
      ]
     },
     "execution_count": 10,
     "metadata": {},
     "output_type": "execute_result"
    }
   ],
   "source": [
    "df['Age'].describe()"
   ]
  },
  {
   "cell_type": "code",
   "execution_count": 11,
   "id": "afd88981",
   "metadata": {},
   "outputs": [
    {
     "data": {
      "image/png": "[encoded data removed]",
      "text/plain": [
       "<Figure size 640x480 with 1 Axes>"
      ]
     },
     "metadata": {},
     "output_type": "display_data"
    }
   ],
   "source": [
    "plt.hist(df['Age']);"
   ]
  },
  {
   "cell_type": "code",
   "execution_count": 12,
   "id": "d7197858",
   "metadata": {},
   "outputs": [
    {
     "data": {
      "image/png": "[encoded data removed]",
      "text/plain": [
       "<Figure size 640x480 with 1 Axes>"
      ]
     },
     "metadata": {},
     "output_type": "display_data"
    }
   ],
   "source": [
    "plt.scatter(x = df['Age'], y = df['Salary']);"
   ]
  },
  {
   "cell_type": "markdown",
   "id": "0eb433f1",
   "metadata": {},
   "source": [
    ">## Note\n",
    ">In this dataset is predominant people with 28 to 35, 38 years old, but there is a jump in the values when it comes to people with 45 and 46 years old too. Apparently, there doesn't seem to have outliers here. furthermore, is perceptive that the older the person is, the higher their salary.  "
   ]
  },
  {
   "cell_type": "markdown",
   "id": "ee4454c6",
   "metadata": {},
   "source": [
    "## Gender"
   ]
  },
  {
   "cell_type": "code",
   "execution_count": 13,
   "id": "36d892f9",
   "metadata": {},
   "outputs": [
    {
     "data": {
      "image/png": "[encoded data removed]",
      "text/plain": [
       "<Figure size 640x480 with 1 Axes>"
      ]
     },
     "metadata": {},
     "output_type": "display_data"
    }
   ],
   "source": [
    "sns.countplot(x=df['Gender']);"
   ]
  },
  {
   "cell_type": "code",
   "execution_count": 14,
   "id": "ce1e01d7",
   "metadata": {},
   "outputs": [
    {
     "data": {
      "text/plain": [
       "(array(['Female', 'Male'], dtype=object), array([179, 194], dtype=int64))"
      ]
     },
     "execution_count": 14,
     "metadata": {},
     "output_type": "execute_result"
    }
   ],
   "source": [
    "np.unique(df['Gender'], return_counts = True)"
   ]
  },
  {
   "cell_type": "code",
   "execution_count": 15,
   "id": "ff33b3a4",
   "metadata": {},
   "outputs": [
    {
     "data": {
      "image/png": "[encoded data removed]",
      "text/plain": [
       "<Figure size 640x480 with 1 Axes>"
      ]
     },
     "metadata": {},
     "output_type": "display_data"
    }
   ],
   "source": [
    " plt.bar(x = df['Gender'], height = df['Salary']);"
   ]
  },
  {
   "cell_type": "markdown",
   "id": "48761551",
   "metadata": {},
   "source": [
    ">## Note\n",
    ">In this case, the data include more men than women and there is a tendency for men's salaries to be higher than women's."
   ]
  },
  {
   "cell_type": "code",
   "execution_count": 16,
   "id": "bb987917",
   "metadata": {},
   "outputs": [
    {
     "data": {
      "image/png": "[encoded data removed]",
      "text/plain": [
       "<Figure size 640x480 with 1 Axes>"
      ]
     },
     "metadata": {},
     "output_type": "display_data"
    }
   ],
   "source": [
    "sns.countplot(x = df['Education Level']);"
   ]
  },
  {
   "cell_type": "code",
   "execution_count": 17,
   "id": "36435576",
   "metadata": {},
   "outputs": [
    {
     "data": {
      "image/png": "[encoded data removed]",
      "text/plain": [
       "<Figure size 640x480 with 1 Axes>"
      ]
     },
     "metadata": {},
     "output_type": "display_data"
    }
   ],
   "source": [
    "plt.bar(x = df['Education Level'], height = df['Salary']);"
   ]
  },
  {
   "cell_type": "code",
   "execution_count": 18,
   "id": "17b60217",
   "metadata": {},
   "outputs": [
    {
     "data": {
      "image/png": "[encoded data removed]",
      "text/plain": [
       "<Figure size 640x480 with 1 Axes>"
      ]
     },
     "metadata": {},
     "output_type": "display_data"
    }
   ],
   "source": [
    "plt.hist(df['Education Level']);"
   ]
  },
  {
   "cell_type": "markdown",
   "id": "4c2704b2",
   "metadata": {},
   "source": [
    ">## Note\n",
    ">We can concluse that people with Bachelor's and PhD degress earn more than people with Master´s."
   ]
  },
  {
   "cell_type": "markdown",
   "id": "32d5385a",
   "metadata": {},
   "source": [
    "## Job Title"
   ]
  },
  {
   "cell_type": "code",
   "execution_count": 19,
   "id": "f525299e",
   "metadata": {},
   "outputs": [
    {
     "data": {
      "text/plain": [
       "Director of Marketing              12\n",
       "Director of Operations             11\n",
       "Senior Business Analyst            10\n",
       "Senior Marketing Analyst            9\n",
       "Senior Marketing Manager            9\n",
       "                                   ..\n",
       "Business Development Manager        1\n",
       "Customer Service Representative     1\n",
       "IT Manager                          1\n",
       "Digital Marketing Manager           1\n",
       "Junior Web Developer                1\n",
       "Name: Job Title, Length: 174, dtype: int64"
      ]
     },
     "execution_count": 19,
     "metadata": {},
     "output_type": "execute_result"
    }
   ],
   "source": [
    "df['Job Title'].value_counts()"
   ]
  },
  {
   "cell_type": "markdown",
   "id": "25923dd2",
   "metadata": {},
   "source": [
    ">## Note\n",
    ">As this variable have many categories, maybe it will interfere negatively in the modelation, because the future model can not find consistent correlations between this column and the other features. At this first moment, I will try getting a good result just removing `Job Title` column."
   ]
  },
  {
   "cell_type": "code",
   "execution_count": 20,
   "id": "8707613c",
   "metadata": {},
   "outputs": [
    {
     "data": {
      "text/html": [
       "<div>\n",
       "<style scoped>\n",
       "    .dataframe tbody tr th:only-of-type {\n",
       "        vertical-align: middle;\n",
       "    }\n",
       "\n",
       "    .dataframe tbody tr th {\n",
       "        vertical-align: top;\n",
       "    }\n",
       "\n",
       "    .dataframe thead th {\n",
       "        text-align: right;\n",
       "    }\n",
       "</style>\n",
       "<table border=\"1\" class=\"dataframe\">\n",
       "  <thead>\n",
       "    <tr style=\"text-align: right;\">\n",
       "      <th></th>\n",
       "      <th>Age</th>\n",
       "      <th>Gender</th>\n",
       "      <th>Education Level</th>\n",
       "      <th>Years of Experience</th>\n",
       "      <th>Salary</th>\n",
       "    </tr>\n",
       "  </thead>\n",
       "  <tbody>\n",
       "    <tr>\n",
       "      <th>0</th>\n",
       "      <td>32.0</td>\n",
       "      <td>Male</td>\n",
       "      <td>Bachelor's</td>\n",
       "      <td>5.0</td>\n",
       "      <td>90000.0</td>\n",
       "    </tr>\n",
       "    <tr>\n",
       "      <th>1</th>\n",
       "      <td>28.0</td>\n",
       "      <td>Female</td>\n",
       "      <td>Master's</td>\n",
       "      <td>3.0</td>\n",
       "      <td>65000.0</td>\n",
       "    </tr>\n",
       "    <tr>\n",
       "      <th>2</th>\n",
       "      <td>45.0</td>\n",
       "      <td>Male</td>\n",
       "      <td>PhD</td>\n",
       "      <td>15.0</td>\n",
       "      <td>150000.0</td>\n",
       "    </tr>\n",
       "    <tr>\n",
       "      <th>3</th>\n",
       "      <td>36.0</td>\n",
       "      <td>Female</td>\n",
       "      <td>Bachelor's</td>\n",
       "      <td>7.0</td>\n",
       "      <td>60000.0</td>\n",
       "    </tr>\n",
       "    <tr>\n",
       "      <th>4</th>\n",
       "      <td>52.0</td>\n",
       "      <td>Male</td>\n",
       "      <td>Master's</td>\n",
       "      <td>20.0</td>\n",
       "      <td>200000.0</td>\n",
       "    </tr>\n",
       "    <tr>\n",
       "      <th>...</th>\n",
       "      <td>...</td>\n",
       "      <td>...</td>\n",
       "      <td>...</td>\n",
       "      <td>...</td>\n",
       "      <td>...</td>\n",
       "    </tr>\n",
       "    <tr>\n",
       "      <th>370</th>\n",
       "      <td>35.0</td>\n",
       "      <td>Female</td>\n",
       "      <td>Bachelor's</td>\n",
       "      <td>8.0</td>\n",
       "      <td>85000.0</td>\n",
       "    </tr>\n",
       "    <tr>\n",
       "      <th>371</th>\n",
       "      <td>43.0</td>\n",
       "      <td>Male</td>\n",
       "      <td>Master's</td>\n",
       "      <td>19.0</td>\n",
       "      <td>170000.0</td>\n",
       "    </tr>\n",
       "    <tr>\n",
       "      <th>372</th>\n",
       "      <td>29.0</td>\n",
       "      <td>Female</td>\n",
       "      <td>Bachelor's</td>\n",
       "      <td>2.0</td>\n",
       "      <td>40000.0</td>\n",
       "    </tr>\n",
       "    <tr>\n",
       "      <th>373</th>\n",
       "      <td>34.0</td>\n",
       "      <td>Male</td>\n",
       "      <td>Bachelor's</td>\n",
       "      <td>7.0</td>\n",
       "      <td>90000.0</td>\n",
       "    </tr>\n",
       "    <tr>\n",
       "      <th>374</th>\n",
       "      <td>44.0</td>\n",
       "      <td>Female</td>\n",
       "      <td>PhD</td>\n",
       "      <td>15.0</td>\n",
       "      <td>150000.0</td>\n",
       "    </tr>\n",
       "  </tbody>\n",
       "</table>\n",
       "<p>373 rows × 5 columns</p>\n",
       "</div>"
      ],
      "text/plain": [
       "      Age  Gender Education Level  Years of Experience    Salary\n",
       "0    32.0    Male      Bachelor's                  5.0   90000.0\n",
       "1    28.0  Female        Master's                  3.0   65000.0\n",
       "2    45.0    Male             PhD                 15.0  150000.0\n",
       "3    36.0  Female      Bachelor's                  7.0   60000.0\n",
       "4    52.0    Male        Master's                 20.0  200000.0\n",
       "..    ...     ...             ...                  ...       ...\n",
       "370  35.0  Female      Bachelor's                  8.0   85000.0\n",
       "371  43.0    Male        Master's                 19.0  170000.0\n",
       "372  29.0  Female      Bachelor's                  2.0   40000.0\n",
       "373  34.0    Male      Bachelor's                  7.0   90000.0\n",
       "374  44.0  Female             PhD                 15.0  150000.0\n",
       "\n",
       "[373 rows x 5 columns]"
      ]
     },
     "execution_count": 20,
     "metadata": {},
     "output_type": "execute_result"
    }
   ],
   "source": [
    "df.drop('Job Title', axis = 1, inplace = True)\n",
    "df"
   ]
  },
  {
   "cell_type": "markdown",
   "id": "6801c3f7",
   "metadata": {},
   "source": [
    "## Years Of Experience "
   ]
  },
  {
   "cell_type": "code",
   "execution_count": 21,
   "id": "72ee4f6e",
   "metadata": {},
   "outputs": [
    {
     "data": {
      "text/plain": [
       "count    373.000000\n",
       "mean      10.030831\n",
       "std        6.557007\n",
       "min        0.000000\n",
       "25%        4.000000\n",
       "50%        9.000000\n",
       "75%       15.000000\n",
       "max       25.000000\n",
       "Name: Years of Experience, dtype: float64"
      ]
     },
     "execution_count": 21,
     "metadata": {},
     "output_type": "execute_result"
    }
   ],
   "source": [
    "df['Years of Experience'].describe()"
   ]
  },
  {
   "cell_type": "code",
   "execution_count": 22,
   "id": "bb52f2cd",
   "metadata": {},
   "outputs": [
    {
     "data": {
      "image/png": "[encoded data removed]",
      "text/plain": [
       "<Figure size 640x480 with 1 Axes>"
      ]
     },
     "metadata": {},
     "output_type": "display_data"
    }
   ],
   "source": [
    "plt.hist(df['Years of Experience']);"
   ]
  },
  {
   "cell_type": "code",
   "execution_count": 23,
   "id": "03852060",
   "metadata": {},
   "outputs": [
    {
     "data": {
      "image/png": "[encoded data removed]",
      "text/plain": [
       "<Figure size 640x480 with 1 Axes>"
      ]
     },
     "metadata": {},
     "output_type": "display_data"
    }
   ],
   "source": [
    "plt.scatter(x = df['Years of Experience'], y = df['Salary']);"
   ]
  },
  {
   "cell_type": "markdown",
   "id": "95b0c38e",
   "metadata": {},
   "source": [
    ">## Note\n",
    ">We can see that the most employees of the company has between 0 and 8 years of experience. About the salary, it follows the logic, the more experience the higher the salary. It means that, both `Age` column and `Years Of Experience` are linear correlating with the target column `Salary`. "
   ]
  },
  {
   "cell_type": "markdown",
   "id": "7bb3908d",
   "metadata": {},
   "source": [
    "## Salary (Target Column)"
   ]
  },
  {
   "cell_type": "code",
   "execution_count": 24,
   "id": "aa7dbaaf",
   "metadata": {},
   "outputs": [
    {
     "data": {
      "text/plain": [
       "count       373.000000\n",
       "mean     100577.345845\n",
       "std       48240.013482\n",
       "min         350.000000\n",
       "25%       55000.000000\n",
       "50%       95000.000000\n",
       "75%      140000.000000\n",
       "max      250000.000000\n",
       "Name: Salary, dtype: float64"
      ]
     },
     "execution_count": 24,
     "metadata": {},
     "output_type": "execute_result"
    }
   ],
   "source": [
    "df['Salary'].describe()"
   ]
  },
  {
   "cell_type": "code",
   "execution_count": 25,
   "id": "f2f98e95",
   "metadata": {},
   "outputs": [
    {
     "data": {
      "text/html": [
       "<div>\n",
       "<style scoped>\n",
       "    .dataframe tbody tr th:only-of-type {\n",
       "        vertical-align: middle;\n",
       "    }\n",
       "\n",
       "    .dataframe tbody tr th {\n",
       "        vertical-align: top;\n",
       "    }\n",
       "\n",
       "    .dataframe thead th {\n",
       "        text-align: right;\n",
       "    }\n",
       "</style>\n",
       "<table border=\"1\" class=\"dataframe\">\n",
       "  <thead>\n",
       "    <tr style=\"text-align: right;\">\n",
       "      <th></th>\n",
       "      <th>Age</th>\n",
       "      <th>Gender</th>\n",
       "      <th>Education Level</th>\n",
       "      <th>Years of Experience</th>\n",
       "      <th>Salary</th>\n",
       "    </tr>\n",
       "  </thead>\n",
       "  <tbody>\n",
       "    <tr>\n",
       "      <th>8</th>\n",
       "      <td>26.0</td>\n",
       "      <td>Female</td>\n",
       "      <td>Bachelor's</td>\n",
       "      <td>1.0</td>\n",
       "      <td>45000.0</td>\n",
       "    </tr>\n",
       "    <tr>\n",
       "      <th>18</th>\n",
       "      <td>25.0</td>\n",
       "      <td>Female</td>\n",
       "      <td>Bachelor's</td>\n",
       "      <td>0.0</td>\n",
       "      <td>35000.0</td>\n",
       "    </tr>\n",
       "    <tr>\n",
       "      <th>27</th>\n",
       "      <td>24.0</td>\n",
       "      <td>Male</td>\n",
       "      <td>Bachelor's</td>\n",
       "      <td>1.0</td>\n",
       "      <td>40000.0</td>\n",
       "    </tr>\n",
       "    <tr>\n",
       "      <th>38</th>\n",
       "      <td>26.0</td>\n",
       "      <td>Female</td>\n",
       "      <td>Bachelor's</td>\n",
       "      <td>1.0</td>\n",
       "      <td>40000.0</td>\n",
       "    </tr>\n",
       "    <tr>\n",
       "      <th>49</th>\n",
       "      <td>25.0</td>\n",
       "      <td>Male</td>\n",
       "      <td>Bachelor's</td>\n",
       "      <td>0.0</td>\n",
       "      <td>35000.0</td>\n",
       "    </tr>\n",
       "    <tr>\n",
       "      <th>64</th>\n",
       "      <td>26.0</td>\n",
       "      <td>Male</td>\n",
       "      <td>Bachelor's</td>\n",
       "      <td>1.0</td>\n",
       "      <td>35000.0</td>\n",
       "    </tr>\n",
       "    <tr>\n",
       "      <th>82</th>\n",
       "      <td>25.0</td>\n",
       "      <td>Male</td>\n",
       "      <td>Bachelor's</td>\n",
       "      <td>0.0</td>\n",
       "      <td>30000.0</td>\n",
       "    </tr>\n",
       "    <tr>\n",
       "      <th>97</th>\n",
       "      <td>26.0</td>\n",
       "      <td>Male</td>\n",
       "      <td>Bachelor's</td>\n",
       "      <td>1.0</td>\n",
       "      <td>35000.0</td>\n",
       "    </tr>\n",
       "    <tr>\n",
       "      <th>114</th>\n",
       "      <td>23.0</td>\n",
       "      <td>Female</td>\n",
       "      <td>Bachelor's</td>\n",
       "      <td>0.5</td>\n",
       "      <td>35000.0</td>\n",
       "    </tr>\n",
       "    <tr>\n",
       "      <th>134</th>\n",
       "      <td>27.0</td>\n",
       "      <td>Male</td>\n",
       "      <td>Bachelor's</td>\n",
       "      <td>1.0</td>\n",
       "      <td>35000.0</td>\n",
       "    </tr>\n",
       "    <tr>\n",
       "      <th>144</th>\n",
       "      <td>25.0</td>\n",
       "      <td>Female</td>\n",
       "      <td>Master's</td>\n",
       "      <td>1.5</td>\n",
       "      <td>40000.0</td>\n",
       "    </tr>\n",
       "    <tr>\n",
       "      <th>165</th>\n",
       "      <td>27.0</td>\n",
       "      <td>Male</td>\n",
       "      <td>Bachelor's</td>\n",
       "      <td>1.5</td>\n",
       "      <td>35000.0</td>\n",
       "    </tr>\n",
       "    <tr>\n",
       "      <th>174</th>\n",
       "      <td>26.0</td>\n",
       "      <td>Female</td>\n",
       "      <td>Master's</td>\n",
       "      <td>1.5</td>\n",
       "      <td>45000.0</td>\n",
       "    </tr>\n",
       "    <tr>\n",
       "      <th>189</th>\n",
       "      <td>28.0</td>\n",
       "      <td>Male</td>\n",
       "      <td>Bachelor's</td>\n",
       "      <td>1.5</td>\n",
       "      <td>35000.0</td>\n",
       "    </tr>\n",
       "    <tr>\n",
       "      <th>203</th>\n",
       "      <td>27.0</td>\n",
       "      <td>Female</td>\n",
       "      <td>Master's</td>\n",
       "      <td>1.5</td>\n",
       "      <td>45000.0</td>\n",
       "    </tr>\n",
       "    <tr>\n",
       "      <th>218</th>\n",
       "      <td>29.0</td>\n",
       "      <td>Male</td>\n",
       "      <td>Bachelor's</td>\n",
       "      <td>1.5</td>\n",
       "      <td>35000.0</td>\n",
       "    </tr>\n",
       "    <tr>\n",
       "      <th>232</th>\n",
       "      <td>27.0</td>\n",
       "      <td>Female</td>\n",
       "      <td>Master's</td>\n",
       "      <td>1.5</td>\n",
       "      <td>50000.0</td>\n",
       "    </tr>\n",
       "    <tr>\n",
       "      <th>241</th>\n",
       "      <td>29.0</td>\n",
       "      <td>Male</td>\n",
       "      <td>Bachelor's</td>\n",
       "      <td>1.5</td>\n",
       "      <td>40000.0</td>\n",
       "    </tr>\n",
       "    <tr>\n",
       "      <th>259</th>\n",
       "      <td>29.0</td>\n",
       "      <td>Male</td>\n",
       "      <td>Bachelor's</td>\n",
       "      <td>1.5</td>\n",
       "      <td>350.0</td>\n",
       "    </tr>\n",
       "    <tr>\n",
       "      <th>265</th>\n",
       "      <td>29.0</td>\n",
       "      <td>Female</td>\n",
       "      <td>Bachelor's</td>\n",
       "      <td>1.5</td>\n",
       "      <td>40000.0</td>\n",
       "    </tr>\n",
       "    <tr>\n",
       "      <th>283</th>\n",
       "      <td>29.0</td>\n",
       "      <td>Female</td>\n",
       "      <td>Bachelor's</td>\n",
       "      <td>1.5</td>\n",
       "      <td>35000.0</td>\n",
       "    </tr>\n",
       "    <tr>\n",
       "      <th>310</th>\n",
       "      <td>29.0</td>\n",
       "      <td>Female</td>\n",
       "      <td>Bachelor's</td>\n",
       "      <td>1.5</td>\n",
       "      <td>35000.0</td>\n",
       "    </tr>\n",
       "    <tr>\n",
       "      <th>348</th>\n",
       "      <td>28.0</td>\n",
       "      <td>Female</td>\n",
       "      <td>Bachelor's</td>\n",
       "      <td>1.0</td>\n",
       "      <td>35000.0</td>\n",
       "    </tr>\n",
       "  </tbody>\n",
       "</table>\n",
       "</div>"
      ],
      "text/plain": [
       "      Age  Gender Education Level  Years of Experience   Salary\n",
       "8    26.0  Female      Bachelor's                  1.0  45000.0\n",
       "18   25.0  Female      Bachelor's                  0.0  35000.0\n",
       "27   24.0    Male      Bachelor's                  1.0  40000.0\n",
       "38   26.0  Female      Bachelor's                  1.0  40000.0\n",
       "49   25.0    Male      Bachelor's                  0.0  35000.0\n",
       "64   26.0    Male      Bachelor's                  1.0  35000.0\n",
       "82   25.0    Male      Bachelor's                  0.0  30000.0\n",
       "97   26.0    Male      Bachelor's                  1.0  35000.0\n",
       "114  23.0  Female      Bachelor's                  0.5  35000.0\n",
       "134  27.0    Male      Bachelor's                  1.0  35000.0\n",
       "144  25.0  Female        Master's                  1.5  40000.0\n",
       "165  27.0    Male      Bachelor's                  1.5  35000.0\n",
       "174  26.0  Female        Master's                  1.5  45000.0\n",
       "189  28.0    Male      Bachelor's                  1.5  35000.0\n",
       "203  27.0  Female        Master's                  1.5  45000.0\n",
       "218  29.0    Male      Bachelor's                  1.5  35000.0\n",
       "232  27.0  Female        Master's                  1.5  50000.0\n",
       "241  29.0    Male      Bachelor's                  1.5  40000.0\n",
       "259  29.0    Male      Bachelor's                  1.5    350.0\n",
       "265  29.0  Female      Bachelor's                  1.5  40000.0\n",
       "283  29.0  Female      Bachelor's                  1.5  35000.0\n",
       "310  29.0  Female      Bachelor's                  1.5  35000.0\n",
       "348  28.0  Female      Bachelor's                  1.0  35000.0"
      ]
     },
     "execution_count": 25,
     "metadata": {},
     "output_type": "execute_result"
    }
   ],
   "source": [
    "df[df['Years of Experience'] < 2]"
   ]
  },
  {
   "cell_type": "markdown",
   "id": "164930da",
   "metadata": {},
   "source": [
    "> ## Note\n",
    ">The min value of this column is too distance between the others values, it may means that it is an outlier. As I dropped the Job title column, we will not know the occupation of this person. But, looking at the base this number is the only one with that diffence. Because of that, I will change the value to 35000. It seems a input error."
   ]
  },
  {
   "cell_type": "code",
   "execution_count": 26,
   "id": "14901c81",
   "metadata": {},
   "outputs": [],
   "source": [
    "df['Salary'].replace(350, 35000, inplace=True)"
   ]
  },
  {
   "cell_type": "code",
   "execution_count": 27,
   "id": "2656a8de",
   "metadata": {},
   "outputs": [
    {
     "data": {
      "text/html": [
       "<div>\n",
       "<style scoped>\n",
       "    .dataframe tbody tr th:only-of-type {\n",
       "        vertical-align: middle;\n",
       "    }\n",
       "\n",
       "    .dataframe tbody tr th {\n",
       "        vertical-align: top;\n",
       "    }\n",
       "\n",
       "    .dataframe thead th {\n",
       "        text-align: right;\n",
       "    }\n",
       "</style>\n",
       "<table border=\"1\" class=\"dataframe\">\n",
       "  <thead>\n",
       "    <tr style=\"text-align: right;\">\n",
       "      <th></th>\n",
       "      <th>Age</th>\n",
       "      <th>Gender</th>\n",
       "      <th>Education Level</th>\n",
       "      <th>Years of Experience</th>\n",
       "      <th>Salary</th>\n",
       "    </tr>\n",
       "  </thead>\n",
       "  <tbody>\n",
       "    <tr>\n",
       "      <th>8</th>\n",
       "      <td>26.0</td>\n",
       "      <td>Female</td>\n",
       "      <td>Bachelor's</td>\n",
       "      <td>1.0</td>\n",
       "      <td>45000.0</td>\n",
       "    </tr>\n",
       "    <tr>\n",
       "      <th>18</th>\n",
       "      <td>25.0</td>\n",
       "      <td>Female</td>\n",
       "      <td>Bachelor's</td>\n",
       "      <td>0.0</td>\n",
       "      <td>35000.0</td>\n",
       "    </tr>\n",
       "    <tr>\n",
       "      <th>27</th>\n",
       "      <td>24.0</td>\n",
       "      <td>Male</td>\n",
       "      <td>Bachelor's</td>\n",
       "      <td>1.0</td>\n",
       "      <td>40000.0</td>\n",
       "    </tr>\n",
       "    <tr>\n",
       "      <th>38</th>\n",
       "      <td>26.0</td>\n",
       "      <td>Female</td>\n",
       "      <td>Bachelor's</td>\n",
       "      <td>1.0</td>\n",
       "      <td>40000.0</td>\n",
       "    </tr>\n",
       "    <tr>\n",
       "      <th>49</th>\n",
       "      <td>25.0</td>\n",
       "      <td>Male</td>\n",
       "      <td>Bachelor's</td>\n",
       "      <td>0.0</td>\n",
       "      <td>35000.0</td>\n",
       "    </tr>\n",
       "    <tr>\n",
       "      <th>64</th>\n",
       "      <td>26.0</td>\n",
       "      <td>Male</td>\n",
       "      <td>Bachelor's</td>\n",
       "      <td>1.0</td>\n",
       "      <td>35000.0</td>\n",
       "    </tr>\n",
       "    <tr>\n",
       "      <th>82</th>\n",
       "      <td>25.0</td>\n",
       "      <td>Male</td>\n",
       "      <td>Bachelor's</td>\n",
       "      <td>0.0</td>\n",
       "      <td>30000.0</td>\n",
       "    </tr>\n",
       "    <tr>\n",
       "      <th>97</th>\n",
       "      <td>26.0</td>\n",
       "      <td>Male</td>\n",
       "      <td>Bachelor's</td>\n",
       "      <td>1.0</td>\n",
       "      <td>35000.0</td>\n",
       "    </tr>\n",
       "    <tr>\n",
       "      <th>114</th>\n",
       "      <td>23.0</td>\n",
       "      <td>Female</td>\n",
       "      <td>Bachelor's</td>\n",
       "      <td>0.5</td>\n",
       "      <td>35000.0</td>\n",
       "    </tr>\n",
       "    <tr>\n",
       "      <th>134</th>\n",
       "      <td>27.0</td>\n",
       "      <td>Male</td>\n",
       "      <td>Bachelor's</td>\n",
       "      <td>1.0</td>\n",
       "      <td>35000.0</td>\n",
       "    </tr>\n",
       "    <tr>\n",
       "      <th>144</th>\n",
       "      <td>25.0</td>\n",
       "      <td>Female</td>\n",
       "      <td>Master's</td>\n",
       "      <td>1.5</td>\n",
       "      <td>40000.0</td>\n",
       "    </tr>\n",
       "    <tr>\n",
       "      <th>165</th>\n",
       "      <td>27.0</td>\n",
       "      <td>Male</td>\n",
       "      <td>Bachelor's</td>\n",
       "      <td>1.5</td>\n",
       "      <td>35000.0</td>\n",
       "    </tr>\n",
       "    <tr>\n",
       "      <th>174</th>\n",
       "      <td>26.0</td>\n",
       "      <td>Female</td>\n",
       "      <td>Master's</td>\n",
       "      <td>1.5</td>\n",
       "      <td>45000.0</td>\n",
       "    </tr>\n",
       "    <tr>\n",
       "      <th>189</th>\n",
       "      <td>28.0</td>\n",
       "      <td>Male</td>\n",
       "      <td>Bachelor's</td>\n",
       "      <td>1.5</td>\n",
       "      <td>35000.0</td>\n",
       "    </tr>\n",
       "    <tr>\n",
       "      <th>203</th>\n",
       "      <td>27.0</td>\n",
       "      <td>Female</td>\n",
       "      <td>Master's</td>\n",
       "      <td>1.5</td>\n",
       "      <td>45000.0</td>\n",
       "    </tr>\n",
       "    <tr>\n",
       "      <th>218</th>\n",
       "      <td>29.0</td>\n",
       "      <td>Male</td>\n",
       "      <td>Bachelor's</td>\n",
       "      <td>1.5</td>\n",
       "      <td>35000.0</td>\n",
       "    </tr>\n",
       "    <tr>\n",
       "      <th>232</th>\n",
       "      <td>27.0</td>\n",
       "      <td>Female</td>\n",
       "      <td>Master's</td>\n",
       "      <td>1.5</td>\n",
       "      <td>50000.0</td>\n",
       "    </tr>\n",
       "    <tr>\n",
       "      <th>241</th>\n",
       "      <td>29.0</td>\n",
       "      <td>Male</td>\n",
       "      <td>Bachelor's</td>\n",
       "      <td>1.5</td>\n",
       "      <td>40000.0</td>\n",
       "    </tr>\n",
       "    <tr>\n",
       "      <th>259</th>\n",
       "      <td>29.0</td>\n",
       "      <td>Male</td>\n",
       "      <td>Bachelor's</td>\n",
       "      <td>1.5</td>\n",
       "      <td>35000.0</td>\n",
       "    </tr>\n",
       "    <tr>\n",
       "      <th>265</th>\n",
       "      <td>29.0</td>\n",
       "      <td>Female</td>\n",
       "      <td>Bachelor's</td>\n",
       "      <td>1.5</td>\n",
       "      <td>40000.0</td>\n",
       "    </tr>\n",
       "    <tr>\n",
       "      <th>283</th>\n",
       "      <td>29.0</td>\n",
       "      <td>Female</td>\n",
       "      <td>Bachelor's</td>\n",
       "      <td>1.5</td>\n",
       "      <td>35000.0</td>\n",
       "    </tr>\n",
       "    <tr>\n",
       "      <th>310</th>\n",
       "      <td>29.0</td>\n",
       "      <td>Female</td>\n",
       "      <td>Bachelor's</td>\n",
       "      <td>1.5</td>\n",
       "      <td>35000.0</td>\n",
       "    </tr>\n",
       "    <tr>\n",
       "      <th>348</th>\n",
       "      <td>28.0</td>\n",
       "      <td>Female</td>\n",
       "      <td>Bachelor's</td>\n",
       "      <td>1.0</td>\n",
       "      <td>35000.0</td>\n",
       "    </tr>\n",
       "  </tbody>\n",
       "</table>\n",
       "</div>"
      ],
      "text/plain": [
       "      Age  Gender Education Level  Years of Experience   Salary\n",
       "8    26.0  Female      Bachelor's                  1.0  45000.0\n",
       "18   25.0  Female      Bachelor's                  0.0  35000.0\n",
       "27   24.0    Male      Bachelor's                  1.0  40000.0\n",
       "38   26.0  Female      Bachelor's                  1.0  40000.0\n",
       "49   25.0    Male      Bachelor's                  0.0  35000.0\n",
       "64   26.0    Male      Bachelor's                  1.0  35000.0\n",
       "82   25.0    Male      Bachelor's                  0.0  30000.0\n",
       "97   26.0    Male      Bachelor's                  1.0  35000.0\n",
       "114  23.0  Female      Bachelor's                  0.5  35000.0\n",
       "134  27.0    Male      Bachelor's                  1.0  35000.0\n",
       "144  25.0  Female        Master's                  1.5  40000.0\n",
       "165  27.0    Male      Bachelor's                  1.5  35000.0\n",
       "174  26.0  Female        Master's                  1.5  45000.0\n",
       "189  28.0    Male      Bachelor's                  1.5  35000.0\n",
       "203  27.0  Female        Master's                  1.5  45000.0\n",
       "218  29.0    Male      Bachelor's                  1.5  35000.0\n",
       "232  27.0  Female        Master's                  1.5  50000.0\n",
       "241  29.0    Male      Bachelor's                  1.5  40000.0\n",
       "259  29.0    Male      Bachelor's                  1.5  35000.0\n",
       "265  29.0  Female      Bachelor's                  1.5  40000.0\n",
       "283  29.0  Female      Bachelor's                  1.5  35000.0\n",
       "310  29.0  Female      Bachelor's                  1.5  35000.0\n",
       "348  28.0  Female      Bachelor's                  1.0  35000.0"
      ]
     },
     "execution_count": 27,
     "metadata": {},
     "output_type": "execute_result"
    }
   ],
   "source": [
    "df[df['Years of Experience'] < 2]"
   ]
  },
  {
   "cell_type": "markdown",
   "id": "c90c0f38",
   "metadata": {},
   "source": [
    "# Data Split"
   ]
  },
  {
   "cell_type": "code",
   "execution_count": 28,
   "id": "cb7e2832",
   "metadata": {},
   "outputs": [],
   "source": [
    "X = df.iloc[:, 0:4].values\n",
    "y = df.iloc[:, 4].values"
   ]
  },
  {
   "cell_type": "code",
   "execution_count": 29,
   "id": "0e56bb85",
   "metadata": {},
   "outputs": [
    {
     "data": {
      "text/plain": [
       "array([[32.0, 'Male', \"Bachelor's\", 5.0],\n",
       "       [28.0, 'Female', \"Master's\", 3.0],\n",
       "       [45.0, 'Male', 'PhD', 15.0],\n",
       "       ...,\n",
       "       [29.0, 'Female', \"Bachelor's\", 2.0],\n",
       "       [34.0, 'Male', \"Bachelor's\", 7.0],\n",
       "       [44.0, 'Female', 'PhD', 15.0]], dtype=object)"
      ]
     },
     "execution_count": 29,
     "metadata": {},
     "output_type": "execute_result"
    }
   ],
   "source": [
    "X"
   ]
  },
  {
   "cell_type": "code",
   "execution_count": 30,
   "id": "8200f09f",
   "metadata": {},
   "outputs": [
    {
     "data": {
      "text/plain": [
       "array([ 90000.,  65000., 150000.,  60000., 200000.,  55000., 120000.,\n",
       "        80000.,  45000., 110000.,  75000., 140000.,  65000., 130000.,\n",
       "        40000., 125000.,  90000., 115000.,  35000., 180000.,  80000.,\n",
       "       190000.,  50000.,  60000., 140000.,  45000., 110000.,  40000.,\n",
       "       140000.,  90000., 250000.,  55000.,  75000.,  65000., 170000.,\n",
       "        45000.,  60000., 115000.,  40000., 160000.,  80000., 190000.,\n",
       "        60000.,  45000., 130000.,  40000.,  75000., 180000., 120000.,\n",
       "        35000., 130000.,  85000.,  60000., 200000.,  50000.,  95000.,\n",
       "        65000., 140000.,  55000., 105000., 170000.,  50000.,  80000.,\n",
       "       180000.,  35000.,  90000., 120000.,  45000.,  90000., 150000.,\n",
       "        65000.,  70000., 190000.,  40000., 120000.,  95000., 160000.,\n",
       "       100000., 180000.,  55000.,  70000.,  80000.,  30000., 250000.,\n",
       "        40000.,  95000.,  45000.,  80000., 135000.,  55000., 120000.,\n",
       "        40000., 105000., 170000.,  75000.,  65000., 160000.,  35000.,\n",
       "        90000., 110000.,  45000.,  95000., 150000.,  50000.,  80000.,\n",
       "       220000.,  50000.,  60000., 100000.,  40000., 110000.,  95000.,\n",
       "       130000.,  90000.,  35000.,  95000.,  65000., 170000.,  45000.,\n",
       "       120000., 100000., 180000.,  50000.,  80000., 140000.,  40000.,\n",
       "        95000., 110000.,  50000., 105000., 160000.,  45000., 100000.,\n",
       "       160000.,  35000.,  55000., 140000.,  50000.,  60000., 120000.,\n",
       "        40000., 110000.,  50000., 135000.,  40000.,  90000., 150000.,\n",
       "        60000.,  80000., 175000.,  45000., 120000., 140000.,  35000.,\n",
       "        95000., 110000.,  50000., 115000., 185000.,  40000.,  90000.,\n",
       "       175000.,  45000.,  80000., 120000.,  35000., 110000., 150000.,\n",
       "        50000., 105000., 180000.,  40000., 140000.,  45000.,  85000.,\n",
       "       140000.,  50000.,  80000., 170000.,  40000., 105000., 145000.,\n",
       "        40000.,  85000., 130000.,  95000., 100000., 180000.,  35000.,\n",
       "        95000., 170000.,  45000.,  95000., 120000.,  40000.,  90000.,\n",
       "       155000.,  55000., 110000., 180000.,  45000., 130000.,  45000.,\n",
       "        90000., 160000.,  50000., 120000., 170000.,  40000., 110000.,\n",
       "       150000.,  40000.,  85000., 130000., 100000.,  95000., 180000.,\n",
       "        35000., 100000., 170000.,  45000., 100000., 140000.,  40000.,\n",
       "       105000., 160000.,  70000., 120000., 190000.,  45000., 120000.,\n",
       "        50000.,  85000., 140000.,  45000., 100000., 140000.,  70000.,\n",
       "       120000., 160000.,  40000., 120000., 150000.,  70000.,  95000.,\n",
       "       180000.,  50000.,  95000., 170000.,  40000., 110000., 150000.,\n",
       "        40000.,  85000., 130000., 100000.,  95000., 180000.,  35000.,\n",
       "       120000., 160000.,  50000., 110000.,  40000.,  95000., 140000.,\n",
       "        60000., 110000., 150000.,  60000.,  90000., 180000.,  40000.,\n",
       "       120000., 160000.,  70000.,  95000., 180000.,  50000.,  95000.,\n",
       "       170000.,  35000., 100000., 150000.,  60000.,  85000., 130000.,\n",
       "        65000., 110000., 180000.,  40000.,  90000., 140000.,  60000.,\n",
       "       130000., 160000.,  40000., 100000., 180000.,  55000., 120000.,\n",
       "       150000.,  70000.,  95000., 180000.,  50000., 120000., 170000.,\n",
       "        35000., 100000., 150000.,  60000.,  85000., 130000.,  80000.,\n",
       "        95000.,  40000., 120000., 160000.,  65000., 130000., 180000.,\n",
       "        40000., 100000., 150000.,  55000., 110000., 180000.,  50000.,\n",
       "       130000., 160000.,  60000.,  95000., 170000.,  40000.,  90000.,\n",
       "       150000.,  70000.,  90000., 170000.,  50000., 150000., 160000.,\n",
       "        60000.,  85000., 180000.,  35000., 110000., 160000.,  55000.,\n",
       "       110000., 180000.,  50000., 130000., 160000.,  60000.,  95000.,\n",
       "       170000.,  40000.,  90000., 150000.,  70000.,  90000., 170000.,\n",
       "        50000., 150000., 160000.,  60000.,  85000., 170000.,  40000.,\n",
       "        90000., 150000.])"
      ]
     },
     "execution_count": 30,
     "metadata": {},
     "output_type": "execute_result"
    }
   ],
   "source": [
    "y"
   ]
  },
  {
   "cell_type": "markdown",
   "id": "db307b2b",
   "metadata": {},
   "source": [
    "## Preprocessing"
   ]
  },
  {
   "cell_type": "markdown",
   "id": "a3b825ea",
   "metadata": {},
   "source": [
    "### LabelEncoder"
   ]
  },
  {
   "cell_type": "code",
   "execution_count": 31,
   "id": "ed7bd675",
   "metadata": {},
   "outputs": [],
   "source": [
    "from sklearn.preprocessing import LabelEncoder"
   ]
  },
  {
   "cell_type": "code",
   "execution_count": 32,
   "id": "d73bea96",
   "metadata": {},
   "outputs": [],
   "source": [
    "label = LabelEncoder()"
   ]
  },
  {
   "cell_type": "code",
   "execution_count": 33,
   "id": "a621a728",
   "metadata": {},
   "outputs": [
    {
     "data": {
      "text/plain": [
       "array([[32.0, 'Male', \"Bachelor's\", 5.0],\n",
       "       [28.0, 'Female', \"Master's\", 3.0],\n",
       "       [45.0, 'Male', 'PhD', 15.0],\n",
       "       ...,\n",
       "       [29.0, 'Female', \"Bachelor's\", 2.0],\n",
       "       [34.0, 'Male', \"Bachelor's\", 7.0],\n",
       "       [44.0, 'Female', 'PhD', 15.0]], dtype=object)"
      ]
     },
     "execution_count": 33,
     "metadata": {},
     "output_type": "execute_result"
    }
   ],
   "source": [
    "X"
   ]
  },
  {
   "cell_type": "code",
   "execution_count": 34,
   "id": "a5149bca",
   "metadata": {},
   "outputs": [
    {
     "data": {
      "text/plain": [
       "array([[32.0, 1, 0, 5.0],\n",
       "       [28.0, 0, 1, 3.0],\n",
       "       [45.0, 1, 2, 15.0],\n",
       "       ...,\n",
       "       [29.0, 0, 0, 2.0],\n",
       "       [34.0, 1, 0, 7.0],\n",
       "       [44.0, 0, 2, 15.0]], dtype=object)"
      ]
     },
     "execution_count": 34,
     "metadata": {},
     "output_type": "execute_result"
    }
   ],
   "source": [
    "X[:,1] = label.fit_transform(X[:,1])\n",
    "X[:,2] = label.fit_transform(X[:,2])\n",
    "X"
   ]
  },
  {
   "cell_type": "markdown",
   "id": "26a1b883",
   "metadata": {},
   "source": [
    "### OneHotEncoder"
   ]
  },
  {
   "cell_type": "code",
   "execution_count": 35,
   "id": "b5f2f0ed",
   "metadata": {},
   "outputs": [],
   "source": [
    "from sklearn.preprocessing import OneHotEncoder\n",
    "from sklearn.compose import ColumnTransformer"
   ]
  },
  {
   "cell_type": "code",
   "execution_count": 36,
   "id": "e1ac5f44",
   "metadata": {},
   "outputs": [
    {
     "data": {
      "text/plain": [
       "array([[0.0, 1.0, 1.0, ..., 0.0, 32.0, 5.0],\n",
       "       [1.0, 0.0, 0.0, ..., 0.0, 28.0, 3.0],\n",
       "       [0.0, 1.0, 0.0, ..., 1.0, 45.0, 15.0],\n",
       "       ...,\n",
       "       [1.0, 0.0, 1.0, ..., 0.0, 29.0, 2.0],\n",
       "       [0.0, 1.0, 1.0, ..., 0.0, 34.0, 7.0],\n",
       "       [1.0, 0.0, 0.0, ..., 1.0, 44.0, 15.0]], dtype=object)"
      ]
     },
     "execution_count": 36,
     "metadata": {},
     "output_type": "execute_result"
    }
   ],
   "source": [
    "onehot = ColumnTransformer(transformers=[('OneHot', OneHotEncoder(), [1,2])],remainder='passthrough')\n",
    "X = onehot.fit_transform(X)\n",
    "X\n"
   ]
  },
  {
   "cell_type": "code",
   "execution_count": 37,
   "id": "5e32786f",
   "metadata": {},
   "outputs": [
    {
     "data": {
      "text/plain": [
       "(373, 7)"
      ]
     },
     "execution_count": 37,
     "metadata": {},
     "output_type": "execute_result"
    }
   ],
   "source": [
    "X.shape"
   ]
  },
  {
   "cell_type": "markdown",
   "id": "715a4c44",
   "metadata": {},
   "source": [
    "> ## Note\n",
    "> As the database has few attributes, I will not apply features selection this time, because the models can lose a lot of performance."
   ]
  },
  {
   "cell_type": "markdown",
   "id": "924fc291",
   "metadata": {},
   "source": [
    "## Data Transformation \n",
    "As the data have values in different scales, I'll transform the atributtes using StandardScaler. Furthermore, most machine learning models perform better with standardized numbers."
   ]
  },
  {
   "cell_type": "code",
   "execution_count": 38,
   "id": "46edf651",
   "metadata": {},
   "outputs": [
    {
     "data": {
      "text/plain": [
       "array([[0.0, 1.0, 1.0, ..., 0.0, 32.0, 5.0],\n",
       "       [1.0, 0.0, 0.0, ..., 0.0, 28.0, 3.0],\n",
       "       [0.0, 1.0, 0.0, ..., 1.0, 45.0, 15.0],\n",
       "       ...,\n",
       "       [1.0, 0.0, 1.0, ..., 0.0, 29.0, 2.0],\n",
       "       [0.0, 1.0, 1.0, ..., 0.0, 34.0, 7.0],\n",
       "       [1.0, 0.0, 0.0, ..., 1.0, 44.0, 15.0]], dtype=object)"
      ]
     },
     "execution_count": 38,
     "metadata": {},
     "output_type": "execute_result"
    }
   ],
   "source": [
    "X"
   ]
  },
  {
   "cell_type": "code",
   "execution_count": 39,
   "id": "6cfe5481",
   "metadata": {},
   "outputs": [],
   "source": [
    "from sklearn.preprocessing import StandardScaler"
   ]
  },
  {
   "cell_type": "code",
   "execution_count": 40,
   "id": "b76b2a60",
   "metadata": {},
   "outputs": [
    {
     "data": {
      "text/plain": [
       "array([[-0.96056255,  0.96056255,  0.8155848 , ..., -0.39797625,\n",
       "        -0.76939807, -0.76827558],\n",
       "       [ 1.04105662, -1.04105662, -1.22611407, ..., -0.39797625,\n",
       "        -1.33600316, -1.07370248],\n",
       "       [-0.96056255,  0.96056255, -1.22611407, ...,  2.51271278,\n",
       "         1.07206849,  0.75885893],\n",
       "       ...,\n",
       "       [ 1.04105662, -1.04105662,  0.8155848 , ..., -0.39797625,\n",
       "        -1.19435189, -1.22641593],\n",
       "       [-0.96056255,  0.96056255,  0.8155848 , ..., -0.39797625,\n",
       "        -0.48609552, -0.46284867],\n",
       "       [ 1.04105662, -1.04105662, -1.22611407, ...,  2.51271278,\n",
       "         0.93041721,  0.75885893]])"
      ]
     },
     "execution_count": 40,
     "metadata": {},
     "output_type": "execute_result"
    }
   ],
   "source": [
    "scaler = StandardScaler()\n",
    "X_scaled = scaler.fit_transform(X)\n",
    "X_scaled"
   ]
  },
  {
   "cell_type": "markdown",
   "id": "899e0d5a",
   "metadata": {},
   "source": [
    "## Train | Test Split"
   ]
  },
  {
   "cell_type": "code",
   "execution_count": 41,
   "id": "446498f9",
   "metadata": {},
   "outputs": [],
   "source": [
    "from sklearn.model_selection import train_test_split"
   ]
  },
  {
   "cell_type": "code",
   "execution_count": 42,
   "id": "908d895f",
   "metadata": {},
   "outputs": [
    {
     "data": {
      "text/plain": [
       "((279, 7), (279,), (94, 7), (94,))"
      ]
     },
     "execution_count": 42,
     "metadata": {},
     "output_type": "execute_result"
    }
   ],
   "source": [
    "X_train, X_test, y_train, y_test = train_test_split(X_scaled, y, test_size = 0.25, random_state = 0)\n",
    "X_train.shape, y_train.shape, X_test.shape, y_test.shape"
   ]
  },
  {
   "cell_type": "markdown",
   "id": "f7cd23a2",
   "metadata": {},
   "source": [
    ">## Note \n",
    "> Now, we have the dataset ready for experiences with machine learning models.\n",
    "> As this case seems a liner problem and as this data is very small, I'll work with just with 3 models:\n",
    ">- Linear Regression\n",
    ">- Polynomial Linear Regression\n",
    ">- Decision Tree Regressor"
   ]
  },
  {
   "cell_type": "code",
   "execution_count": 43,
   "id": "613dca05",
   "metadata": {},
   "outputs": [],
   "source": [
    "from sklearn.metrics import mean_absolute_error"
   ]
  },
  {
   "cell_type": "markdown",
   "id": "b4318f2f",
   "metadata": {},
   "source": [
    "## Linear Regression"
   ]
  },
  {
   "cell_type": "code",
   "execution_count": 44,
   "id": "7ca70d85",
   "metadata": {},
   "outputs": [],
   "source": [
    "from sklearn.linear_model import LinearRegression"
   ]
  },
  {
   "cell_type": "code",
   "execution_count": 45,
   "id": "88a81c34",
   "metadata": {},
   "outputs": [
    {
     "name": "stdout",
     "output_type": "stream",
     "text": [
      "Train R2: 0.8996063690228908\n",
      "Test R2: 0.9145795816445053\n",
      "\n",
      "MAE: 9986.162215981867\n"
     ]
    }
   ],
   "source": [
    "linearRegression = LinearRegression()\n",
    "\n",
    "linearRegression.fit(X_train, y_train)\n",
    "predictions = linearRegression.predict(X_test)\n",
    "print('Train R2:', linearRegression.score(X_train, y_train))\n",
    "print('Test R2:', linearRegression.score(X_test, y_test))\n",
    "print('')\n",
    "print('MAE:', mean_absolute_error(y_test, predictions))"
   ]
  },
  {
   "cell_type": "markdown",
   "id": "48d4018e",
   "metadata": {},
   "source": [
    "## Polynomial Regression"
   ]
  },
  {
   "cell_type": "code",
   "execution_count": 46,
   "id": "e2a88b49",
   "metadata": {},
   "outputs": [],
   "source": [
    "from sklearn.preprocessing import PolynomialFeatures"
   ]
  },
  {
   "cell_type": "code",
   "execution_count": 47,
   "id": "8c62f54d",
   "metadata": {},
   "outputs": [],
   "source": [
    "poly = PolynomialFeatures(degree = 2)\n",
    "X_train_poly = poly.fit_transform(X_train)\n",
    "X_test_poly = poly.transform(X_test)"
   ]
  },
  {
   "cell_type": "code",
   "execution_count": 48,
   "id": "ee309b44",
   "metadata": {},
   "outputs": [
    {
     "data": {
      "text/plain": [
       "array([[ 1.        ,  1.04105662, -1.04105662, ...,  1.10817859,\n",
       "         1.2910488 ,  1.50409602],\n",
       "       [ 1.        , -0.96056255,  0.96056255, ...,  1.83703063,\n",
       "         2.06345234,  2.31778147],\n",
       "       [ 1.        , -0.96056255,  0.96056255, ...,  1.10817859,\n",
       "         1.2910488 ,  1.50409602],\n",
       "       ...,\n",
       "       [ 1.        , -0.96056255,  0.96056255, ...,  2.24107578,\n",
       "         2.27910595,  2.31778147],\n",
       "       [ 1.        ,  1.04105662, -1.04105662, ...,  1.14933084,\n",
       "         0.97726802,  0.8309642 ],\n",
       "       [ 1.        , -0.96056255,  0.96056255, ...,  0.62215171,\n",
       "         0.71901724,  0.8309642 ]])"
      ]
     },
     "execution_count": 48,
     "metadata": {},
     "output_type": "execute_result"
    }
   ],
   "source": [
    "X_train_poly"
   ]
  },
  {
   "cell_type": "code",
   "execution_count": 49,
   "id": "809ec646",
   "metadata": {},
   "outputs": [
    {
     "data": {
      "text/plain": [
       "array([[ 1.        ,  1.04105662, -1.04105662, ...,  1.78490445,\n",
       "         1.63849556,  1.50409602],\n",
       "       [ 1.        , -0.96056255,  0.96056255, ...,  1.10817859,\n",
       "         1.2910488 ,  1.50409602],\n",
       "       [ 1.        ,  1.04105662, -1.04105662, ...,  1.42647644,\n",
       "         1.28237858,  1.15283701],\n",
       "       ...,\n",
       "       [ 1.        ,  1.04105662, -1.04105662, ...,  0.83001091,\n",
       "         0.83906645,  0.84822079],\n",
       "       [ 1.        ,  1.04105662, -1.04105662, ...,  0.83001091,\n",
       "         0.97819594,  1.15283701],\n",
       "       [ 1.        , -0.96056255,  0.96056255, ...,  1.14933084,\n",
       "         1.1409873 ,  1.13270433]])"
      ]
     },
     "execution_count": 49,
     "metadata": {},
     "output_type": "execute_result"
    }
   ],
   "source": [
    "X_test_poly"
   ]
  },
  {
   "cell_type": "code",
   "execution_count": 50,
   "id": "826bd0d0",
   "metadata": {},
   "outputs": [
    {
     "name": "stdout",
     "output_type": "stream",
     "text": [
      "Train R2: 0.9079657934121784\n",
      "Test R2: 0.9066416954777349\n",
      "\n",
      "MAE: 10287.404255319148\n"
     ]
    }
   ],
   "source": [
    "linearRegression = LinearRegression()\n",
    "\n",
    "linearRegression.fit(X_train_poly, y_train)\n",
    "predictions_poly = linearRegression.predict(X_test_poly)\n",
    "print('Train R2:', linearRegression.score(X_train_poly, y_train))\n",
    "print('Test R2:', linearRegression.score(X_test_poly, y_test))\n",
    "print('')\n",
    "print('MAE:', mean_absolute_error(y_test, predictions_poly))"
   ]
  },
  {
   "cell_type": "markdown",
   "id": "af17e37c",
   "metadata": {},
   "source": [
    "## DecisionTree Regressor"
   ]
  },
  {
   "cell_type": "code",
   "execution_count": 51,
   "id": "70bfcc9c",
   "metadata": {},
   "outputs": [],
   "source": [
    "from sklearn.tree import DecisionTreeRegressor"
   ]
  },
  {
   "cell_type": "code",
   "execution_count": 52,
   "id": "e0243caf",
   "metadata": {},
   "outputs": [
    {
     "name": "stdout",
     "output_type": "stream",
     "text": [
      "Train R2: 0.9790331548373594\n",
      "Test R2: 0.9041283277259982\n",
      "\n",
      "MAE: 9480.496453900709\n"
     ]
    }
   ],
   "source": [
    "dt = DecisionTreeRegressor()\n",
    "\n",
    "dt.fit(X_train, y_train)\n",
    "predictions_dt = dt.predict(X_test)\n",
    "print('Train R2:', dt.score(X_train, y_train))\n",
    "print('Test R2:', dt.score(X_test, y_test))\n",
    "print('')\n",
    "print('MAE:', mean_absolute_error(y_test, predictions_dt))"
   ]
  },
  {
   "cell_type": "code",
   "execution_count": 53,
   "id": "793c7648",
   "metadata": {},
   "outputs": [
    {
     "data": {
      "text/html": [
       "<div>\n",
       "<style scoped>\n",
       "    .dataframe tbody tr th:only-of-type {\n",
       "        vertical-align: middle;\n",
       "    }\n",
       "\n",
       "    .dataframe tbody tr th {\n",
       "        vertical-align: top;\n",
       "    }\n",
       "\n",
       "    .dataframe thead th {\n",
       "        text-align: right;\n",
       "    }\n",
       "</style>\n",
       "<table border=\"1\" class=\"dataframe\">\n",
       "  <thead>\n",
       "    <tr style=\"text-align: right;\">\n",
       "      <th></th>\n",
       "      <th>Models</th>\n",
       "      <th>MAE</th>\n",
       "      <th>R2</th>\n",
       "    </tr>\n",
       "  </thead>\n",
       "  <tbody>\n",
       "    <tr>\n",
       "      <th>0</th>\n",
       "      <td>Linear Regression</td>\n",
       "      <td>9986.16</td>\n",
       "      <td>0.9145</td>\n",
       "    </tr>\n",
       "    <tr>\n",
       "      <th>1</th>\n",
       "      <td>polynomial Regression</td>\n",
       "      <td>10287.40</td>\n",
       "      <td>0.9066</td>\n",
       "    </tr>\n",
       "    <tr>\n",
       "      <th>2</th>\n",
       "      <td>DecisionTree Regressor</td>\n",
       "      <td>9480.49</td>\n",
       "      <td>0.9041</td>\n",
       "    </tr>\n",
       "  </tbody>\n",
       "</table>\n",
       "</div>"
      ],
      "text/plain": [
       "                   Models       MAE      R2\n",
       "0       Linear Regression   9986.16  0.9145\n",
       "1   polynomial Regression  10287.40  0.9066\n",
       "2  DecisionTree Regressor   9480.49  0.9041"
      ]
     },
     "execution_count": 53,
     "metadata": {},
     "output_type": "execute_result"
    }
   ],
   "source": [
    "results = pd.DataFrame({'Models': ['Linear Regression', 'polynomial Regression', 'DecisionTree Regressor'],\n",
    "                       'MAE': [ 9986.16, 10287.40, 9480.49],\n",
    "                       'R2': [0.9145,0.9066,0.9041]})\n",
    "\n",
    "results"
   ]
  },
  {
   "cell_type": "markdown",
   "id": "d8b1f217",
   "metadata": {},
   "source": [
    "# Conclusion\n",
    ">## Note\n",
    "> As we can see, the best model will depend of the model evaluation metric, if it's **MAE** the best one will be DecisionTree Regressor, but if it's **R2** the best one will be Linear Regression.\n",
    "\n",
    "> ### OBS \n",
    "**To realy check which of these models are actually the best one is necessary use cross validation techniques and extract the mean of scores, make tests of normality and, posteriorly, Hypothesis Test. I will not follow this adictional steps,\n",
    "because in this situation the database is very simple, being for learning purposes only**. "
   ]
  }
 ],
 "metadata": {
  "kernelspec": {
   "display_name": "Python 3 (ipykernel)",
   "language": "python",
   "name": "python3"
  },
  "language_info": {
   "codemirror_mode": {
    "name": "ipython",
    "version": 3
   },
   "file_extension": ".py",
   "mimetype": "text/x-python",
   "name": "python",
   "nbconvert_exporter": "python",
   "pygments_lexer": "ipython3",
   "version": "3.11.3"
  }
 },
 "nbformat": 4,
 "nbformat_minor": 5
}
